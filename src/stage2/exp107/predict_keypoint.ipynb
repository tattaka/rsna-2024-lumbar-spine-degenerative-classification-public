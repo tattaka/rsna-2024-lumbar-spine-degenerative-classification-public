{
 "cells": [
  {
   "cell_type": "code",
   "execution_count": 1,
   "metadata": {},
   "outputs": [
    {
     "name": "stderr",
     "output_type": "stream",
     "text": [
      "/home/jupyter/projects/Kosei-Line/rsna-2024-lumbar-spine-degenerative-classification/src/stage2/exp076/evaluation.py:43: FutureWarning: Setting an item of incompatible dtype is deprecated and will raise in a future error of pandas. Value '[0.57617188 0.58203125 0.57617188 ... 0.56835938 0.5625     0.53710938]' has dtype incompatible with int64, please explicitly cast to a compatible dtype first.\n",
      "  axial_keypoints_df.loc[:, [\"x_l\", \"x_r\", \"y_l\", \"y_r\"]] = (\n",
      "/home/jupyter/projects/Kosei-Line/rsna-2024-lumbar-spine-degenerative-classification/src/stage2/exp076/evaluation.py:43: FutureWarning: Setting an item of incompatible dtype is deprecated and will raise in a future error of pandas. Value '[0.45898438 0.47070312 0.47265625 ... 0.45507812 0.44726562 0.4296875 ]' has dtype incompatible with int64, please explicitly cast to a compatible dtype first.\n",
      "  axial_keypoints_df.loc[:, [\"x_l\", \"x_r\", \"y_l\", \"y_r\"]] = (\n",
      "/home/jupyter/projects/Kosei-Line/rsna-2024-lumbar-spine-degenerative-classification/src/stage2/exp076/evaluation.py:43: FutureWarning: Setting an item of incompatible dtype is deprecated and will raise in a future error of pandas. Value '[0.51953125 0.50976562 0.48632812 ... 0.49804688 0.47070312 0.44726562]' has dtype incompatible with int64, please explicitly cast to a compatible dtype first.\n",
      "  axial_keypoints_df.loc[:, [\"x_l\", \"x_r\", \"y_l\", \"y_r\"]] = (\n",
      "/home/jupyter/projects/Kosei-Line/rsna-2024-lumbar-spine-degenerative-classification/src/stage2/exp076/evaluation.py:43: FutureWarning: Setting an item of incompatible dtype is deprecated and will raise in a future error of pandas. Value '[0.52148438 0.50585938 0.48632812 ... 0.49023438 0.46679688 0.44726562]' has dtype incompatible with int64, please explicitly cast to a compatible dtype first.\n",
      "  axial_keypoints_df.loc[:, [\"x_l\", \"x_r\", \"y_l\", \"y_r\"]] = (\n"
     ]
    }
   ],
   "source": [
    "import sys\n",
    "import numpy as np\n",
    "import pandas as pd\n",
    "from sklearn.model_selection import GroupKFold\n",
    "from glob import glob\n",
    "import pydicom\n",
    "import torch \n",
    "from torch.nn import functional as F\n",
    "import os\n",
    "from albumentations.pytorch import ToTensorV2\n",
    "import albumentations as A\n",
    "from tqdm.auto import tqdm\n",
    "\n",
    "import matplotlib.pyplot as plt\n",
    "\n",
    "from evaluation import get_models, get_volume, preprocess_stage1_sagittal, prediction_stage1_sagittal\n"
   ]
  },
  {
   "cell_type": "code",
   "execution_count": 2,
   "metadata": {},
   "outputs": [],
   "source": [
    "series_description_df = pd.read_csv(\n",
    "    \"../../../input/rsna-2024-lumbar-spine-degenerative-classification/train_series_descriptions.csv\"\n",
    ")\n",
    "train_df = pd.read_csv(\n",
    "    \"../../../input/rsna-2024-lumbar-spine-degenerative-classification/train.csv\"\n",
    ")\n",
    "train_df[\"fold_id\"] = -1\n",
    "for i, (train_index, valid_index) in enumerate(\n",
    "    GroupKFold(n_splits=5).split(\n",
    "        train_df, np.arange(len(train_df)), train_df.study_id\n",
    "    )\n",
    "):\n",
    "    train_df.loc[valid_index, \"fold_id\"] = i\n",
    "series_description_df = series_description_df.merge(\n",
    "    train_df.loc[:, [\"study_id\", \"fold_id\"]], on=[\"study_id\"], how=\"left\"\n",
    ")"
   ]
  },
  {
   "cell_type": "code",
   "execution_count": 3,
   "metadata": {},
   "outputs": [
    {
     "data": {
      "text/html": [
       "<div>\n",
       "<style scoped>\n",
       "    .dataframe tbody tr th:only-of-type {\n",
       "        vertical-align: middle;\n",
       "    }\n",
       "\n",
       "    .dataframe tbody tr th {\n",
       "        vertical-align: top;\n",
       "    }\n",
       "\n",
       "    .dataframe thead th {\n",
       "        text-align: right;\n",
       "    }\n",
       "</style>\n",
       "<table border=\"1\" class=\"dataframe\">\n",
       "  <thead>\n",
       "    <tr style=\"text-align: right;\">\n",
       "      <th></th>\n",
       "      <th>study_id</th>\n",
       "      <th>series_id</th>\n",
       "      <th>series_description</th>\n",
       "      <th>fold_id</th>\n",
       "    </tr>\n",
       "  </thead>\n",
       "  <tbody>\n",
       "    <tr>\n",
       "      <th>0</th>\n",
       "      <td>4003253</td>\n",
       "      <td>702807833</td>\n",
       "      <td>Sagittal T2/STIR</td>\n",
       "      <td>4</td>\n",
       "    </tr>\n",
       "    <tr>\n",
       "      <th>1</th>\n",
       "      <td>4003253</td>\n",
       "      <td>1054713880</td>\n",
       "      <td>Sagittal T1</td>\n",
       "      <td>4</td>\n",
       "    </tr>\n",
       "    <tr>\n",
       "      <th>2</th>\n",
       "      <td>4003253</td>\n",
       "      <td>2448190387</td>\n",
       "      <td>Axial T2</td>\n",
       "      <td>4</td>\n",
       "    </tr>\n",
       "    <tr>\n",
       "      <th>3</th>\n",
       "      <td>4646740</td>\n",
       "      <td>3201256954</td>\n",
       "      <td>Axial T2</td>\n",
       "      <td>1</td>\n",
       "    </tr>\n",
       "    <tr>\n",
       "      <th>4</th>\n",
       "      <td>4646740</td>\n",
       "      <td>3486248476</td>\n",
       "      <td>Sagittal T1</td>\n",
       "      <td>1</td>\n",
       "    </tr>\n",
       "    <tr>\n",
       "      <th>...</th>\n",
       "      <td>...</td>\n",
       "      <td>...</td>\n",
       "      <td>...</td>\n",
       "      <td>...</td>\n",
       "    </tr>\n",
       "    <tr>\n",
       "      <th>6289</th>\n",
       "      <td>4287160193</td>\n",
       "      <td>1507070277</td>\n",
       "      <td>Sagittal T2/STIR</td>\n",
       "      <td>3</td>\n",
       "    </tr>\n",
       "    <tr>\n",
       "      <th>6290</th>\n",
       "      <td>4287160193</td>\n",
       "      <td>1820446240</td>\n",
       "      <td>Axial T2</td>\n",
       "      <td>3</td>\n",
       "    </tr>\n",
       "    <tr>\n",
       "      <th>6291</th>\n",
       "      <td>4290709089</td>\n",
       "      <td>3274612423</td>\n",
       "      <td>Sagittal T2/STIR</td>\n",
       "      <td>0</td>\n",
       "    </tr>\n",
       "    <tr>\n",
       "      <th>6292</th>\n",
       "      <td>4290709089</td>\n",
       "      <td>3390218084</td>\n",
       "      <td>Axial T2</td>\n",
       "      <td>0</td>\n",
       "    </tr>\n",
       "    <tr>\n",
       "      <th>6293</th>\n",
       "      <td>4290709089</td>\n",
       "      <td>4237840455</td>\n",
       "      <td>Sagittal T1</td>\n",
       "      <td>0</td>\n",
       "    </tr>\n",
       "  </tbody>\n",
       "</table>\n",
       "<p>6294 rows × 4 columns</p>\n",
       "</div>"
      ],
      "text/plain": [
       "        study_id   series_id series_description  fold_id\n",
       "0        4003253   702807833   Sagittal T2/STIR        4\n",
       "1        4003253  1054713880        Sagittal T1        4\n",
       "2        4003253  2448190387           Axial T2        4\n",
       "3        4646740  3201256954           Axial T2        1\n",
       "4        4646740  3486248476        Sagittal T1        1\n",
       "...          ...         ...                ...      ...\n",
       "6289  4287160193  1507070277   Sagittal T2/STIR        3\n",
       "6290  4287160193  1820446240           Axial T2        3\n",
       "6291  4290709089  3274612423   Sagittal T2/STIR        0\n",
       "6292  4290709089  3390218084           Axial T2        0\n",
       "6293  4290709089  4237840455        Sagittal T1        0\n",
       "\n",
       "[6294 rows x 4 columns]"
      ]
     },
     "execution_count": 3,
     "metadata": {},
     "output_type": "execute_result"
    }
   ],
   "source": [
    "series_description_df"
   ]
  },
  {
   "cell_type": "code",
   "execution_count": 4,
   "metadata": {},
   "outputs": [
    {
     "name": "stdout",
     "output_type": "stream",
     "text": [
      "loading ckpt:  ../../../logs/stage1/exp017/swinv2_tiny_unet_scse_20x256x256_mixup/Sagittal_T1/fold0/rsna-2024-lumbar-spine-degenerative-classification/qbpycslj/checkpoints/best_loss.ckpt\n",
      "loading ckpt:  ../../../logs/stage1/exp017/convnext_tiny_unet_scse_20x256x256_mixup/Sagittal_T1/fold0/rsna-2024-lumbar-spine-degenerative-classification/4zr73olk/checkpoints/best_loss.ckpt\n",
      "loading ckpt:  ../../../logs/stage1/exp017/caformer_s18_unet_scse_20x256x256_mixup/Sagittal_T1/fold0/rsna-2024-lumbar-spine-degenerative-classification/9n64gq36/checkpoints/best_loss.ckpt\n",
      "loading ckpt:  ../../../logs/stage1/exp017/resnetrs50_unet_scse_20x256x256_mixup/Sagittal_T1/fold0/rsna-2024-lumbar-spine-degenerative-classification/exhkxc9i/checkpoints/best_loss.ckpt\n",
      "loading ckpt:  ../../../logs/stage1/exp017/swinv2_tiny_unet_scse_20x256x256_mixup/Sagittal_T2-STIR/fold0/rsna-2024-lumbar-spine-degenerative-classification/wb4vx4bd/checkpoints/best_loss.ckpt\n",
      "loading ckpt:  ../../../logs/stage1/exp017/convnext_tiny_unet_scse_20x256x256_mixup/Sagittal_T2-STIR/fold0/rsna-2024-lumbar-spine-degenerative-classification/cnxhg138/checkpoints/best_loss.ckpt\n",
      "loading ckpt:  ../../../logs/stage1/exp017/caformer_s18_unet_scse_20x256x256_mixup/Sagittal_T2-STIR/fold0/rsna-2024-lumbar-spine-degenerative-classification/71ho6p3w/checkpoints/best_loss.ckpt\n",
      "loading ckpt:  ../../../logs/stage1/exp017/resnetrs50_unet_scse_20x256x256_mixup/Sagittal_T2-STIR/fold0/rsna-2024-lumbar-spine-degenerative-classification/cjzsjw4f/checkpoints/best_loss.ckpt\n"
     ]
    },
    {
     "data": {
      "application/vnd.jupyter.widget-view+json": {
       "model_id": "b0fcc98f3ced4453a72d7db6c804c0e2",
       "version_major": 2,
       "version_minor": 0
      },
      "text/plain": [
       "  0%|          | 0/396 [00:00<?, ?it/s]"
      ]
     },
     "metadata": {},
     "output_type": "display_data"
    },
    {
     "data": {
      "application/vnd.jupyter.widget-view+json": {
       "model_id": "8e54fd50e98d4cc291f5ee016cd68cd0",
       "version_major": 2,
       "version_minor": 0
      },
      "text/plain": [
       "  0%|          | 0/395 [00:00<?, ?it/s]"
      ]
     },
     "metadata": {},
     "output_type": "display_data"
    },
    {
     "name": "stdout",
     "output_type": "stream",
     "text": [
      "loading ckpt:  ../../../logs/stage1/exp017/swinv2_tiny_unet_scse_20x256x256_mixup/Sagittal_T1/fold1/rsna-2024-lumbar-spine-degenerative-classification/4mr2cq2i/checkpoints/best_loss.ckpt\n",
      "loading ckpt:  ../../../logs/stage1/exp017/convnext_tiny_unet_scse_20x256x256_mixup/Sagittal_T1/fold1/rsna-2024-lumbar-spine-degenerative-classification/g746po7r/checkpoints/best_loss.ckpt\n",
      "loading ckpt:  ../../../logs/stage1/exp017/caformer_s18_unet_scse_20x256x256_mixup/Sagittal_T1/fold1/rsna-2024-lumbar-spine-degenerative-classification/ks7555bg/checkpoints/best_loss.ckpt\n",
      "loading ckpt:  ../../../logs/stage1/exp017/resnetrs50_unet_scse_20x256x256_mixup/Sagittal_T1/fold1/rsna-2024-lumbar-spine-degenerative-classification/nyctr7h1/checkpoints/best_loss.ckpt\n",
      "loading ckpt:  ../../../logs/stage1/exp017/swinv2_tiny_unet_scse_20x256x256_mixup/Sagittal_T2-STIR/fold1/rsna-2024-lumbar-spine-degenerative-classification/pen1py6r/checkpoints/best_loss.ckpt\n",
      "loading ckpt:  ../../../logs/stage1/exp017/convnext_tiny_unet_scse_20x256x256_mixup/Sagittal_T2-STIR/fold1/rsna-2024-lumbar-spine-degenerative-classification/8asjdv7y/checkpoints/best_loss.ckpt\n",
      "loading ckpt:  ../../../logs/stage1/exp017/caformer_s18_unet_scse_20x256x256_mixup/Sagittal_T2-STIR/fold1/rsna-2024-lumbar-spine-degenerative-classification/um8kgj6k/checkpoints/best_loss.ckpt\n",
      "loading ckpt:  ../../../logs/stage1/exp017/resnetrs50_unet_scse_20x256x256_mixup/Sagittal_T2-STIR/fold1/rsna-2024-lumbar-spine-degenerative-classification/qq8h0foz/checkpoints/best_loss.ckpt\n"
     ]
    },
    {
     "data": {
      "application/vnd.jupyter.widget-view+json": {
       "model_id": "5f3eafa14ab74261a34d6cb2be9e5602",
       "version_major": 2,
       "version_minor": 0
      },
      "text/plain": [
       "  0%|          | 0/397 [00:00<?, ?it/s]"
      ]
     },
     "metadata": {},
     "output_type": "display_data"
    },
    {
     "data": {
      "application/vnd.jupyter.widget-view+json": {
       "model_id": "cdd836400b094cfe93c078fcb3aa68bd",
       "version_major": 2,
       "version_minor": 0
      },
      "text/plain": [
       "  0%|          | 0/394 [00:00<?, ?it/s]"
      ]
     },
     "metadata": {},
     "output_type": "display_data"
    },
    {
     "name": "stdout",
     "output_type": "stream",
     "text": [
      "loading ckpt:  ../../../logs/stage1/exp017/swinv2_tiny_unet_scse_20x256x256_mixup/Sagittal_T1/fold2/rsna-2024-lumbar-spine-degenerative-classification/jvoyy8uj/checkpoints/best_loss.ckpt\n",
      "loading ckpt:  ../../../logs/stage1/exp017/convnext_tiny_unet_scse_20x256x256_mixup/Sagittal_T1/fold2/rsna-2024-lumbar-spine-degenerative-classification/rfowkyfy/checkpoints/best_loss.ckpt\n",
      "loading ckpt:  ../../../logs/stage1/exp017/caformer_s18_unet_scse_20x256x256_mixup/Sagittal_T1/fold2/rsna-2024-lumbar-spine-degenerative-classification/j63b08xi/checkpoints/best_loss.ckpt\n",
      "loading ckpt:  ../../../logs/stage1/exp017/resnetrs50_unet_scse_20x256x256_mixup/Sagittal_T1/fold2/rsna-2024-lumbar-spine-degenerative-classification/4ksbdiz5/checkpoints/best_loss.ckpt\n",
      "loading ckpt:  ../../../logs/stage1/exp017/swinv2_tiny_unet_scse_20x256x256_mixup/Sagittal_T2-STIR/fold2/rsna-2024-lumbar-spine-degenerative-classification/a1uadhoz/checkpoints/best_loss.ckpt\n",
      "loading ckpt:  ../../../logs/stage1/exp017/convnext_tiny_unet_scse_20x256x256_mixup/Sagittal_T2-STIR/fold2/rsna-2024-lumbar-spine-degenerative-classification/mchjzpfg/checkpoints/best_loss.ckpt\n",
      "loading ckpt:  ../../../logs/stage1/exp017/caformer_s18_unet_scse_20x256x256_mixup/Sagittal_T2-STIR/fold2/rsna-2024-lumbar-spine-degenerative-classification/d5w3sxga/checkpoints/best_loss.ckpt\n",
      "loading ckpt:  ../../../logs/stage1/exp017/resnetrs50_unet_scse_20x256x256_mixup/Sagittal_T2-STIR/fold2/rsna-2024-lumbar-spine-degenerative-classification/dqqtfzhm/checkpoints/best_loss.ckpt\n"
     ]
    },
    {
     "data": {
      "application/vnd.jupyter.widget-view+json": {
       "model_id": "705fb9a86c1d4befafa352dac9e3ea16",
       "version_major": 2,
       "version_minor": 0
      },
      "text/plain": [
       "  0%|          | 0/395 [00:00<?, ?it/s]"
      ]
     },
     "metadata": {},
     "output_type": "display_data"
    },
    {
     "data": {
      "application/vnd.jupyter.widget-view+json": {
       "model_id": "3278de1010c54e3db3ad68a5793130f4",
       "version_major": 2,
       "version_minor": 0
      },
      "text/plain": [
       "  0%|          | 0/395 [00:00<?, ?it/s]"
      ]
     },
     "metadata": {},
     "output_type": "display_data"
    },
    {
     "name": "stdout",
     "output_type": "stream",
     "text": [
      "loading ckpt:  ../../../logs/stage1/exp017/swinv2_tiny_unet_scse_20x256x256_mixup/Sagittal_T1/fold3/rsna-2024-lumbar-spine-degenerative-classification/447up45k/checkpoints/best_loss.ckpt\n",
      "loading ckpt:  ../../../logs/stage1/exp017/convnext_tiny_unet_scse_20x256x256_mixup/Sagittal_T1/fold3/rsna-2024-lumbar-spine-degenerative-classification/ycz3quw7/checkpoints/best_loss.ckpt\n",
      "loading ckpt:  ../../../logs/stage1/exp017/caformer_s18_unet_scse_20x256x256_mixup/Sagittal_T1/fold3/rsna-2024-lumbar-spine-degenerative-classification/jvgbkxfl/checkpoints/best_loss.ckpt\n",
      "loading ckpt:  ../../../logs/stage1/exp017/resnetrs50_unet_scse_20x256x256_mixup/Sagittal_T1/fold3/rsna-2024-lumbar-spine-degenerative-classification/vdou86kp/checkpoints/best_loss.ckpt\n",
      "loading ckpt:  ../../../logs/stage1/exp017/swinv2_tiny_unet_scse_20x256x256_mixup/Sagittal_T2-STIR/fold3/rsna-2024-lumbar-spine-degenerative-classification/4vrxh4g3/checkpoints/best_loss.ckpt\n",
      "loading ckpt:  ../../../logs/stage1/exp017/convnext_tiny_unet_scse_20x256x256_mixup/Sagittal_T2-STIR/fold3/rsna-2024-lumbar-spine-degenerative-classification/r94dzggb/checkpoints/best_loss.ckpt\n",
      "loading ckpt:  ../../../logs/stage1/exp017/caformer_s18_unet_scse_20x256x256_mixup/Sagittal_T2-STIR/fold3/rsna-2024-lumbar-spine-degenerative-classification/ltec5abh/checkpoints/best_loss.ckpt\n",
      "loading ckpt:  ../../../logs/stage1/exp017/resnetrs50_unet_scse_20x256x256_mixup/Sagittal_T2-STIR/fold3/rsna-2024-lumbar-spine-degenerative-classification/fx2xl7fj/checkpoints/best_loss.ckpt\n"
     ]
    },
    {
     "data": {
      "application/vnd.jupyter.widget-view+json": {
       "model_id": "ce205841a4154703b7e372af57d8427c",
       "version_major": 2,
       "version_minor": 0
      },
      "text/plain": [
       "  0%|          | 0/396 [00:00<?, ?it/s]"
      ]
     },
     "metadata": {},
     "output_type": "display_data"
    },
    {
     "data": {
      "application/vnd.jupyter.widget-view+json": {
       "model_id": "d206ace3dce54ed5bf45d1f154a5bd67",
       "version_major": 2,
       "version_minor": 0
      },
      "text/plain": [
       "  0%|          | 0/395 [00:00<?, ?it/s]"
      ]
     },
     "metadata": {},
     "output_type": "display_data"
    },
    {
     "name": "stdout",
     "output_type": "stream",
     "text": [
      "loading ckpt:  ../../../logs/stage1/exp017/swinv2_tiny_unet_scse_20x256x256_mixup/Sagittal_T1/fold4/rsna-2024-lumbar-spine-degenerative-classification/577d9cb3/checkpoints/best_loss.ckpt\n",
      "loading ckpt:  ../../../logs/stage1/exp017/convnext_tiny_unet_scse_20x256x256_mixup/Sagittal_T1/fold4/rsna-2024-lumbar-spine-degenerative-classification/fka0hdw2/checkpoints/best_loss.ckpt\n",
      "loading ckpt:  ../../../logs/stage1/exp017/caformer_s18_unet_scse_20x256x256_mixup/Sagittal_T1/fold4/rsna-2024-lumbar-spine-degenerative-classification/wvyhss9l/checkpoints/best_loss.ckpt\n",
      "loading ckpt:  ../../../logs/stage1/exp017/resnetrs50_unet_scse_20x256x256_mixup/Sagittal_T1/fold4/rsna-2024-lumbar-spine-degenerative-classification/9kfskiz4/checkpoints/best_loss.ckpt\n",
      "loading ckpt:  ../../../logs/stage1/exp017/swinv2_tiny_unet_scse_20x256x256_mixup/Sagittal_T2-STIR/fold4/rsna-2024-lumbar-spine-degenerative-classification/3tq800c1/checkpoints/best_loss.ckpt\n",
      "loading ckpt:  ../../../logs/stage1/exp017/convnext_tiny_unet_scse_20x256x256_mixup/Sagittal_T2-STIR/fold4/rsna-2024-lumbar-spine-degenerative-classification/7p5ait6k/checkpoints/best_loss.ckpt\n",
      "loading ckpt:  ../../../logs/stage1/exp017/caformer_s18_unet_scse_20x256x256_mixup/Sagittal_T2-STIR/fold4/rsna-2024-lumbar-spine-degenerative-classification/irlzyest/checkpoints/best_loss.ckpt\n",
      "loading ckpt:  ../../../logs/stage1/exp017/resnetrs50_unet_scse_20x256x256_mixup/Sagittal_T2-STIR/fold4/rsna-2024-lumbar-spine-degenerative-classification/109ctsbo/checkpoints/best_loss.ckpt\n"
     ]
    },
    {
     "data": {
      "application/vnd.jupyter.widget-view+json": {
       "model_id": "0ef7b8d5e13f4557af3e66c898896c14",
       "version_major": 2,
       "version_minor": 0
      },
      "text/plain": [
       "  0%|          | 0/396 [00:00<?, ?it/s]"
      ]
     },
     "metadata": {},
     "output_type": "display_data"
    },
    {
     "data": {
      "application/vnd.jupyter.widget-view+json": {
       "model_id": "ea50e9a19e78424299d57f7241ce1e54",
       "version_major": 2,
       "version_minor": 0
      },
      "text/plain": [
       "  0%|          | 0/395 [00:00<?, ?it/s]"
      ]
     },
     "metadata": {},
     "output_type": "display_data"
    }
   ],
   "source": [
    "# device = \"cpu\"\n",
    "device = \"cuda:0\"\n",
    "sagittal_t1_result = []\n",
    "sagittal_t2_result = []\n",
    "for fold in range(5):\n",
    "    valid_df = series_description_df[series_description_df.fold_id == fold].reset_index()\n",
    "    model_stage1_sagittal_t1 = get_models(stage=\"1\", exp_id=\"017\", series_description=\"Sagittal_T1\", fold=fold, logdirs=None, device=device)\n",
    "    model_stage1_sagittal_t2 = get_models(stage=\"1\", exp_id=\"017\", series_description=\"Sagittal_T2-STIR\", fold=fold, logdirs=None, device=device)\n",
    "    for series_id in tqdm(valid_df[valid_df.series_description == \"Sagittal T1\"].series_id.unique()):\n",
    "        volume = get_volume(series_id=series_id, description=\"Sagittal T1\")\n",
    "        stage1_volume = preprocess_stage1_sagittal(volume).to(device)\n",
    "        keypoints = prediction_stage1_sagittal(model_stage1_sagittal_t1, stage1_volume)\n",
    "        for i, level in enumerate(([\"L1/L2\", \"L2/L3\", \"L3/L4\", \"L4/L5\", \"L5/S1\"])):\n",
    "            sagittal_t1_result.append([series_id, level, keypoints[i][0], keypoints[i][1]])\n",
    "        # break\n",
    "    for series_id in tqdm(valid_df[valid_df.series_description == \"Sagittal T2/STIR\"].series_id.unique()):\n",
    "        volume = get_volume(series_id=series_id, description=\"Sagittal T2/STIR\")\n",
    "        stage1_volume = preprocess_stage1_sagittal(volume).to(device)\n",
    "        keypoints = prediction_stage1_sagittal(model_stage1_sagittal_t2, stage1_volume)\n",
    "        for i, level in enumerate(([\"L1/L2\", \"L2/L3\", \"L3/L4\", \"L4/L5\", \"L5/S1\"])):\n",
    "            sagittal_t2_result.append([series_id, level, keypoints[i][0], keypoints[i][1]])\n",
    "        # break"
   ]
  },
  {
   "cell_type": "code",
   "execution_count": 5,
   "metadata": {},
   "outputs": [],
   "source": [
    "sagittal_t1_pred_df = pd.DataFrame(sagittal_t1_result, columns=[\"series_id_x\", \"level\", \"x_x_pred\", \"y_x_pred\"])\n",
    "sagittal_t2_pred_df = pd.DataFrame(sagittal_t2_result, columns=[\"series_id_y\", \"level\", \"x_y_pred\", \"y_y_pred\"])"
   ]
  },
  {
   "cell_type": "code",
   "execution_count": 6,
   "metadata": {},
   "outputs": [],
   "source": [
    "sagittal_t1_pred_df.loc[:, [\"series_id_x\", \"level\", \"x_x_pred\", \"y_x_pred\"]].to_csv(\"Sagittal_T1_pred.csv\", index=False)\n",
    "sagittal_t2_pred_df.loc[:, [\"series_id_y\", \"level\", \"x_y_pred\", \"y_y_pred\"]].to_csv(\"Sagittal_T2-STIR_pred.csv\", index=False)"
   ]
  },
  {
   "cell_type": "code",
   "execution_count": null,
   "metadata": {},
   "outputs": [],
   "source": []
  }
 ],
 "metadata": {
  "kernelspec": {
   "display_name": "base",
   "language": "python",
   "name": "python3"
  },
  "language_info": {
   "codemirror_mode": {
    "name": "ipython",
    "version": 3
   },
   "file_extension": ".py",
   "mimetype": "text/x-python",
   "name": "python",
   "nbconvert_exporter": "python",
   "pygments_lexer": "ipython3",
   "version": "3.10.13"
  }
 },
 "nbformat": 4,
 "nbformat_minor": 2
}
