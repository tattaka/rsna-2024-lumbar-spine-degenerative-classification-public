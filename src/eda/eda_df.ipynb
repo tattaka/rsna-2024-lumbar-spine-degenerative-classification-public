{
 "cells": [
  {
   "cell_type": "code",
   "execution_count": 1,
   "metadata": {},
   "outputs": [],
   "source": [
    "import pandas as pd\n",
    "import numpy as np\n",
    "import matplotlib.pyplot as plt\n",
    "import pydicom\n",
    "from glob import glob\n",
    "import cv2\n",
    "from matplotlib import animation\n",
    "from IPython import display\n",
    "from tqdm.auto import trange, tqdm"
   ]
  },
  {
   "cell_type": "code",
   "execution_count": 2,
   "metadata": {},
   "outputs": [],
   "source": [
    "train_descriptions = pd.read_csv(\"../../input/rsna-2024-lumbar-spine-degenerative-classification/train_series_descriptions.csv\")\n",
    "train_coord_df = pd.read_csv(\"../../input/rsna-2024-lumbar-spine-degenerative-classification/train_label_coordinates.csv\")\n",
    "train_coord_df = train_coord_df.merge(train_descriptions, on=[\"series_id\", \"study_id\"], how=\"left\")\n",
    "train_df = pd.read_csv(\"../../input/rsna-2024-lumbar-spine-degenerative-classification/train.csv\")"
   ]
  },
  {
   "cell_type": "code",
   "execution_count": 3,
   "metadata": {},
   "outputs": [
    {
     "data": {
      "text/html": [
       "<div>\n",
       "<style scoped>\n",
       "    .dataframe tbody tr th:only-of-type {\n",
       "        vertical-align: middle;\n",
       "    }\n",
       "\n",
       "    .dataframe tbody tr th {\n",
       "        vertical-align: top;\n",
       "    }\n",
       "\n",
       "    .dataframe thead th {\n",
       "        text-align: right;\n",
       "    }\n",
       "</style>\n",
       "<table border=\"1\" class=\"dataframe\">\n",
       "  <thead>\n",
       "    <tr style=\"text-align: right;\">\n",
       "      <th></th>\n",
       "      <th>study_id</th>\n",
       "      <th>series_id</th>\n",
       "      <th>instance_number</th>\n",
       "      <th>condition</th>\n",
       "      <th>level</th>\n",
       "      <th>x</th>\n",
       "      <th>y</th>\n",
       "      <th>series_description</th>\n",
       "    </tr>\n",
       "  </thead>\n",
       "  <tbody>\n",
       "    <tr>\n",
       "      <th>0</th>\n",
       "      <td>4003253</td>\n",
       "      <td>702807833</td>\n",
       "      <td>8</td>\n",
       "      <td>Spinal Canal Stenosis</td>\n",
       "      <td>L1/L2</td>\n",
       "      <td>322.831858</td>\n",
       "      <td>227.964602</td>\n",
       "      <td>Sagittal T2/STIR</td>\n",
       "    </tr>\n",
       "    <tr>\n",
       "      <th>1</th>\n",
       "      <td>4003253</td>\n",
       "      <td>702807833</td>\n",
       "      <td>8</td>\n",
       "      <td>Spinal Canal Stenosis</td>\n",
       "      <td>L2/L3</td>\n",
       "      <td>320.571429</td>\n",
       "      <td>295.714286</td>\n",
       "      <td>Sagittal T2/STIR</td>\n",
       "    </tr>\n",
       "    <tr>\n",
       "      <th>2</th>\n",
       "      <td>4003253</td>\n",
       "      <td>702807833</td>\n",
       "      <td>8</td>\n",
       "      <td>Spinal Canal Stenosis</td>\n",
       "      <td>L3/L4</td>\n",
       "      <td>323.030303</td>\n",
       "      <td>371.818182</td>\n",
       "      <td>Sagittal T2/STIR</td>\n",
       "    </tr>\n",
       "    <tr>\n",
       "      <th>3</th>\n",
       "      <td>4003253</td>\n",
       "      <td>702807833</td>\n",
       "      <td>8</td>\n",
       "      <td>Spinal Canal Stenosis</td>\n",
       "      <td>L4/L5</td>\n",
       "      <td>335.292035</td>\n",
       "      <td>427.327434</td>\n",
       "      <td>Sagittal T2/STIR</td>\n",
       "    </tr>\n",
       "    <tr>\n",
       "      <th>4</th>\n",
       "      <td>4003253</td>\n",
       "      <td>702807833</td>\n",
       "      <td>8</td>\n",
       "      <td>Spinal Canal Stenosis</td>\n",
       "      <td>L5/S1</td>\n",
       "      <td>353.415929</td>\n",
       "      <td>483.964602</td>\n",
       "      <td>Sagittal T2/STIR</td>\n",
       "    </tr>\n",
       "    <tr>\n",
       "      <th>...</th>\n",
       "      <td>...</td>\n",
       "      <td>...</td>\n",
       "      <td>...</td>\n",
       "      <td>...</td>\n",
       "      <td>...</td>\n",
       "      <td>...</td>\n",
       "      <td>...</td>\n",
       "      <td>...</td>\n",
       "    </tr>\n",
       "    <tr>\n",
       "      <th>48687</th>\n",
       "      <td>4290709089</td>\n",
       "      <td>4237840455</td>\n",
       "      <td>11</td>\n",
       "      <td>Left Neural Foraminal Narrowing</td>\n",
       "      <td>L1/L2</td>\n",
       "      <td>219.465940</td>\n",
       "      <td>97.831063</td>\n",
       "      <td>Sagittal T1</td>\n",
       "    </tr>\n",
       "    <tr>\n",
       "      <th>48688</th>\n",
       "      <td>4290709089</td>\n",
       "      <td>4237840455</td>\n",
       "      <td>12</td>\n",
       "      <td>Left Neural Foraminal Narrowing</td>\n",
       "      <td>L2/L3</td>\n",
       "      <td>205.340599</td>\n",
       "      <td>140.207084</td>\n",
       "      <td>Sagittal T1</td>\n",
       "    </tr>\n",
       "    <tr>\n",
       "      <th>48689</th>\n",
       "      <td>4290709089</td>\n",
       "      <td>4237840455</td>\n",
       "      <td>12</td>\n",
       "      <td>Left Neural Foraminal Narrowing</td>\n",
       "      <td>L3/L4</td>\n",
       "      <td>202.724796</td>\n",
       "      <td>181.013624</td>\n",
       "      <td>Sagittal T1</td>\n",
       "    </tr>\n",
       "    <tr>\n",
       "      <th>48690</th>\n",
       "      <td>4290709089</td>\n",
       "      <td>4237840455</td>\n",
       "      <td>12</td>\n",
       "      <td>Left Neural Foraminal Narrowing</td>\n",
       "      <td>L4/L5</td>\n",
       "      <td>202.933333</td>\n",
       "      <td>219.733333</td>\n",
       "      <td>Sagittal T1</td>\n",
       "    </tr>\n",
       "    <tr>\n",
       "      <th>48691</th>\n",
       "      <td>4290709089</td>\n",
       "      <td>4237840455</td>\n",
       "      <td>12</td>\n",
       "      <td>Left Neural Foraminal Narrowing</td>\n",
       "      <td>L5/S1</td>\n",
       "      <td>211.813953</td>\n",
       "      <td>259.534884</td>\n",
       "      <td>Sagittal T1</td>\n",
       "    </tr>\n",
       "  </tbody>\n",
       "</table>\n",
       "<p>48692 rows × 8 columns</p>\n",
       "</div>"
      ],
      "text/plain": [
       "         study_id   series_id  instance_number  \\\n",
       "0         4003253   702807833                8   \n",
       "1         4003253   702807833                8   \n",
       "2         4003253   702807833                8   \n",
       "3         4003253   702807833                8   \n",
       "4         4003253   702807833                8   \n",
       "...           ...         ...              ...   \n",
       "48687  4290709089  4237840455               11   \n",
       "48688  4290709089  4237840455               12   \n",
       "48689  4290709089  4237840455               12   \n",
       "48690  4290709089  4237840455               12   \n",
       "48691  4290709089  4237840455               12   \n",
       "\n",
       "                             condition  level           x           y  \\\n",
       "0                Spinal Canal Stenosis  L1/L2  322.831858  227.964602   \n",
       "1                Spinal Canal Stenosis  L2/L3  320.571429  295.714286   \n",
       "2                Spinal Canal Stenosis  L3/L4  323.030303  371.818182   \n",
       "3                Spinal Canal Stenosis  L4/L5  335.292035  427.327434   \n",
       "4                Spinal Canal Stenosis  L5/S1  353.415929  483.964602   \n",
       "...                                ...    ...         ...         ...   \n",
       "48687  Left Neural Foraminal Narrowing  L1/L2  219.465940   97.831063   \n",
       "48688  Left Neural Foraminal Narrowing  L2/L3  205.340599  140.207084   \n",
       "48689  Left Neural Foraminal Narrowing  L3/L4  202.724796  181.013624   \n",
       "48690  Left Neural Foraminal Narrowing  L4/L5  202.933333  219.733333   \n",
       "48691  Left Neural Foraminal Narrowing  L5/S1  211.813953  259.534884   \n",
       "\n",
       "      series_description  \n",
       "0       Sagittal T2/STIR  \n",
       "1       Sagittal T2/STIR  \n",
       "2       Sagittal T2/STIR  \n",
       "3       Sagittal T2/STIR  \n",
       "4       Sagittal T2/STIR  \n",
       "...                  ...  \n",
       "48687        Sagittal T1  \n",
       "48688        Sagittal T1  \n",
       "48689        Sagittal T1  \n",
       "48690        Sagittal T1  \n",
       "48691        Sagittal T1  \n",
       "\n",
       "[48692 rows x 8 columns]"
      ]
     },
     "execution_count": 3,
     "metadata": {},
     "output_type": "execute_result"
    }
   ],
   "source": [
    "train_coord_df"
   ]
  },
  {
   "cell_type": "code",
   "execution_count": 10,
   "metadata": {},
   "outputs": [
    {
     "data": {
      "text/plain": [
       "study_id\n",
       "5    1972\n",
       "Name: count, dtype: int64"
      ]
     },
     "execution_count": 10,
     "metadata": {},
     "output_type": "execute_result"
    }
   ],
   "source": [
    "train_coord_df[(train_coord_df.series_description == \"Sagittal T1\") & (train_coord_df.condition == \"Left Neural Foraminal Narrowing\")].groupby(\"series_id\").count().loc[:, \"study_id\"].value_counts()"
   ]
  },
  {
   "cell_type": "code",
   "execution_count": 11,
   "metadata": {},
   "outputs": [
    {
     "data": {
      "text/plain": [
       "study_id\n",
       "5    1971\n",
       "4       1\n",
       "Name: count, dtype: int64"
      ]
     },
     "execution_count": 11,
     "metadata": {},
     "output_type": "execute_result"
    }
   ],
   "source": [
    "train_coord_df[(train_coord_df.series_description == \"Sagittal T1\") & (train_coord_df.condition == \"Right Neural Foraminal Narrowing\")].groupby(\"series_id\").count().loc[:, \"study_id\"].value_counts()"
   ]
  },
  {
   "cell_type": "code",
   "execution_count": 8,
   "metadata": {},
   "outputs": [
    {
     "data": {
      "text/plain": [
       "study_id\n",
       "5    1898\n",
       "3      39\n",
       "4      35\n",
       "1       1\n",
       "Name: count, dtype: int64"
      ]
     },
     "execution_count": 8,
     "metadata": {},
     "output_type": "execute_result"
    }
   ],
   "source": [
    "train_coord_df[train_coord_df.series_description == \"Sagittal T2/STIR\"].groupby(\"series_id\").count().loc[:, \"study_id\"].value_counts()"
   ]
  },
  {
   "cell_type": "code",
   "execution_count": null,
   "metadata": {},
   "outputs": [],
   "source": []
  },
  {
   "cell_type": "code",
   "execution_count": 4,
   "metadata": {},
   "outputs": [
    {
     "data": {
      "application/vnd.jupyter.widget-view+json": {
       "model_id": "87603c58c12746afa111bec13106e063",
       "version_major": 2,
       "version_minor": 0
      },
      "text/plain": [
       "  0%|          | 0/6291 [00:00<?, ?it/s]"
      ]
     },
     "metadata": {},
     "output_type": "display_data"
    },
    {
     "ename": "KeyboardInterrupt",
     "evalue": "",
     "output_type": "error",
     "traceback": [
      "\u001b[0;31m---------------------------------------------------------------------------\u001b[0m",
      "\u001b[0;31mFileNotFoundError\u001b[0m                         Traceback (most recent call last)",
      "File \u001b[0;32m/opt/conda/lib/python3.10/posixpath.py:177\u001b[0m, in \u001b[0;36mlexists\u001b[0;34m(path)\u001b[0m\n\u001b[1;32m    176\u001b[0m \u001b[38;5;28;01mtry\u001b[39;00m:\n\u001b[0;32m--> 177\u001b[0m     \u001b[43mos\u001b[49m\u001b[38;5;241;43m.\u001b[39;49m\u001b[43mlstat\u001b[49m\u001b[43m(\u001b[49m\u001b[43mpath\u001b[49m\u001b[43m)\u001b[49m\n\u001b[1;32m    178\u001b[0m \u001b[38;5;28;01mexcept\u001b[39;00m (\u001b[38;5;167;01mOSError\u001b[39;00m, \u001b[38;5;167;01mValueError\u001b[39;00m):\n",
      "\u001b[0;31mFileNotFoundError\u001b[0m: [Errno 2] No such file or directory: '../../input/rsna-2024-lumbar-spine-degenerative-classification/train_images/3507232306/503399625'",
      "\nDuring handling of the above exception, another exception occurred:\n",
      "\u001b[0;31mKeyboardInterrupt\u001b[0m                         Traceback (most recent call last)",
      "Cell \u001b[0;32mIn[4], line 4\u001b[0m\n\u001b[1;32m      1\u001b[0m max_instance_number \u001b[38;5;241m=\u001b[39m {}\n\u001b[1;32m      3\u001b[0m \u001b[38;5;28;01mfor\u001b[39;00m i \u001b[38;5;129;01min\u001b[39;00m tqdm(train_coord_df\u001b[38;5;241m.\u001b[39mseries_id\u001b[38;5;241m.\u001b[39munique()):\n\u001b[0;32m----> 4\u001b[0m     max_instance_number\u001b[38;5;241m.\u001b[39mupdate(\u001b[38;5;28mdict\u001b[39m(i\u001b[38;5;241m=\u001b[39m\u001b[38;5;28mlen\u001b[39m(\u001b[43mglob\u001b[49m\u001b[43m(\u001b[49m\u001b[38;5;124;43mf\u001b[39;49m\u001b[38;5;124;43m\"\u001b[39;49m\u001b[38;5;124;43m../../input/rsna-2024-lumbar-spine-degenerative-classification/train_images/**/\u001b[39;49m\u001b[38;5;132;43;01m{\u001b[39;49;00m\u001b[43mi\u001b[49m\u001b[38;5;132;43;01m}\u001b[39;49;00m\u001b[38;5;124;43m/*\u001b[39;49m\u001b[38;5;124;43m\"\u001b[39;49m\u001b[43m)\u001b[49m)))\n\u001b[1;32m      5\u001b[0m max_instance_number\n",
      "File \u001b[0;32m/opt/conda/lib/python3.10/glob.py:24\u001b[0m, in \u001b[0;36mglob\u001b[0;34m(pathname, root_dir, dir_fd, recursive)\u001b[0m\n\u001b[1;32m     13\u001b[0m \u001b[38;5;28;01mdef\u001b[39;00m \u001b[38;5;21mglob\u001b[39m(pathname, \u001b[38;5;241m*\u001b[39m, root_dir\u001b[38;5;241m=\u001b[39m\u001b[38;5;28;01mNone\u001b[39;00m, dir_fd\u001b[38;5;241m=\u001b[39m\u001b[38;5;28;01mNone\u001b[39;00m, recursive\u001b[38;5;241m=\u001b[39m\u001b[38;5;28;01mFalse\u001b[39;00m):\n\u001b[1;32m     14\u001b[0m \u001b[38;5;250m    \u001b[39m\u001b[38;5;124;03m\"\"\"Return a list of paths matching a pathname pattern.\u001b[39;00m\n\u001b[1;32m     15\u001b[0m \n\u001b[1;32m     16\u001b[0m \u001b[38;5;124;03m    The pattern may contain simple shell-style wildcards a la\u001b[39;00m\n\u001b[0;32m   (...)\u001b[0m\n\u001b[1;32m     22\u001b[0m \u001b[38;5;124;03m    zero or more directories and subdirectories.\u001b[39;00m\n\u001b[1;32m     23\u001b[0m \u001b[38;5;124;03m    \"\"\"\u001b[39;00m\n\u001b[0;32m---> 24\u001b[0m     \u001b[38;5;28;01mreturn\u001b[39;00m \u001b[38;5;28;43mlist\u001b[39;49m\u001b[43m(\u001b[49m\u001b[43miglob\u001b[49m\u001b[43m(\u001b[49m\u001b[43mpathname\u001b[49m\u001b[43m,\u001b[49m\u001b[43m \u001b[49m\u001b[43mroot_dir\u001b[49m\u001b[38;5;241;43m=\u001b[39;49m\u001b[43mroot_dir\u001b[49m\u001b[43m,\u001b[49m\u001b[43m \u001b[49m\u001b[43mdir_fd\u001b[49m\u001b[38;5;241;43m=\u001b[39;49m\u001b[43mdir_fd\u001b[49m\u001b[43m,\u001b[49m\u001b[43m \u001b[49m\u001b[43mrecursive\u001b[49m\u001b[38;5;241;43m=\u001b[39;49m\u001b[43mrecursive\u001b[49m\u001b[43m)\u001b[49m\u001b[43m)\u001b[49m\n",
      "File \u001b[0;32m/opt/conda/lib/python3.10/glob.py:85\u001b[0m, in \u001b[0;36m_iglob\u001b[0;34m(pathname, root_dir, dir_fd, recursive, dironly)\u001b[0m\n\u001b[1;32m     83\u001b[0m \u001b[38;5;28;01melse\u001b[39;00m:\n\u001b[1;32m     84\u001b[0m     glob_in_dir \u001b[38;5;241m=\u001b[39m _glob0\n\u001b[0;32m---> 85\u001b[0m \u001b[38;5;28;01mfor\u001b[39;00m dirname \u001b[38;5;129;01min\u001b[39;00m dirs:\n\u001b[1;32m     86\u001b[0m     \u001b[38;5;28;01mfor\u001b[39;00m name \u001b[38;5;129;01min\u001b[39;00m glob_in_dir(_join(root_dir, dirname), basename, dir_fd, dironly):\n\u001b[1;32m     87\u001b[0m         \u001b[38;5;28;01myield\u001b[39;00m os\u001b[38;5;241m.\u001b[39mpath\u001b[38;5;241m.\u001b[39mjoin(dirname, name)\n",
      "File \u001b[0;32m/opt/conda/lib/python3.10/glob.py:86\u001b[0m, in \u001b[0;36m_iglob\u001b[0;34m(pathname, root_dir, dir_fd, recursive, dironly)\u001b[0m\n\u001b[1;32m     84\u001b[0m     glob_in_dir \u001b[38;5;241m=\u001b[39m _glob0\n\u001b[1;32m     85\u001b[0m \u001b[38;5;28;01mfor\u001b[39;00m dirname \u001b[38;5;129;01min\u001b[39;00m dirs:\n\u001b[0;32m---> 86\u001b[0m     \u001b[38;5;28;01mfor\u001b[39;00m name \u001b[38;5;129;01min\u001b[39;00m \u001b[43mglob_in_dir\u001b[49m\u001b[43m(\u001b[49m\u001b[43m_join\u001b[49m\u001b[43m(\u001b[49m\u001b[43mroot_dir\u001b[49m\u001b[43m,\u001b[49m\u001b[43m \u001b[49m\u001b[43mdirname\u001b[49m\u001b[43m)\u001b[49m\u001b[43m,\u001b[49m\u001b[43m \u001b[49m\u001b[43mbasename\u001b[49m\u001b[43m,\u001b[49m\u001b[43m \u001b[49m\u001b[43mdir_fd\u001b[49m\u001b[43m,\u001b[49m\u001b[43m \u001b[49m\u001b[43mdironly\u001b[49m\u001b[43m)\u001b[49m:\n\u001b[1;32m     87\u001b[0m         \u001b[38;5;28;01myield\u001b[39;00m os\u001b[38;5;241m.\u001b[39mpath\u001b[38;5;241m.\u001b[39mjoin(dirname, name)\n",
      "File \u001b[0;32m/opt/conda/lib/python3.10/glob.py:101\u001b[0m, in \u001b[0;36m_glob0\u001b[0;34m(dirname, basename, dir_fd, dironly)\u001b[0m\n\u001b[1;32m     99\u001b[0m \u001b[38;5;28;01mdef\u001b[39;00m \u001b[38;5;21m_glob0\u001b[39m(dirname, basename, dir_fd, dironly):\n\u001b[1;32m    100\u001b[0m     \u001b[38;5;28;01mif\u001b[39;00m basename:\n\u001b[0;32m--> 101\u001b[0m         \u001b[38;5;28;01mif\u001b[39;00m \u001b[43m_lexists\u001b[49m\u001b[43m(\u001b[49m\u001b[43m_join\u001b[49m\u001b[43m(\u001b[49m\u001b[43mdirname\u001b[49m\u001b[43m,\u001b[49m\u001b[43m \u001b[49m\u001b[43mbasename\u001b[49m\u001b[43m)\u001b[49m\u001b[43m,\u001b[49m\u001b[43m \u001b[49m\u001b[43mdir_fd\u001b[49m\u001b[43m)\u001b[49m:\n\u001b[1;32m    102\u001b[0m             \u001b[38;5;28;01mreturn\u001b[39;00m [basename]\n\u001b[1;32m    103\u001b[0m     \u001b[38;5;28;01melse\u001b[39;00m:\n\u001b[1;32m    104\u001b[0m         \u001b[38;5;66;03m# `os.path.split()` returns an empty basename for paths ending with a\u001b[39;00m\n\u001b[1;32m    105\u001b[0m         \u001b[38;5;66;03m# directory separator.  'q*x/' should match only directories.\u001b[39;00m\n",
      "File \u001b[0;32m/opt/conda/lib/python3.10/glob.py:180\u001b[0m, in \u001b[0;36m_lexists\u001b[0;34m(pathname, dir_fd)\u001b[0m\n\u001b[1;32m    177\u001b[0m \u001b[38;5;28;01mdef\u001b[39;00m \u001b[38;5;21m_lexists\u001b[39m(pathname, dir_fd):\n\u001b[1;32m    178\u001b[0m     \u001b[38;5;66;03m# Same as os.path.lexists(), but with dir_fd\u001b[39;00m\n\u001b[1;32m    179\u001b[0m     \u001b[38;5;28;01mif\u001b[39;00m dir_fd \u001b[38;5;129;01mis\u001b[39;00m \u001b[38;5;28;01mNone\u001b[39;00m:\n\u001b[0;32m--> 180\u001b[0m         \u001b[38;5;28;01mreturn\u001b[39;00m \u001b[43mos\u001b[49m\u001b[38;5;241;43m.\u001b[39;49m\u001b[43mpath\u001b[49m\u001b[38;5;241;43m.\u001b[39;49m\u001b[43mlexists\u001b[49m\u001b[43m(\u001b[49m\u001b[43mpathname\u001b[49m\u001b[43m)\u001b[49m\n\u001b[1;32m    181\u001b[0m     \u001b[38;5;28;01mtry\u001b[39;00m:\n\u001b[1;32m    182\u001b[0m         os\u001b[38;5;241m.\u001b[39mlstat(pathname, dir_fd\u001b[38;5;241m=\u001b[39mdir_fd)\n",
      "File \u001b[0;32m/opt/conda/lib/python3.10/posixpath.py:177\u001b[0m, in \u001b[0;36mlexists\u001b[0;34m(path)\u001b[0m\n\u001b[1;32m    175\u001b[0m \u001b[38;5;250m\u001b[39m\u001b[38;5;124;03m\"\"\"Test whether a path exists.  Returns True for broken symbolic links\"\"\"\u001b[39;00m\n\u001b[1;32m    176\u001b[0m \u001b[38;5;28;01mtry\u001b[39;00m:\n\u001b[0;32m--> 177\u001b[0m     \u001b[43mos\u001b[49m\u001b[38;5;241;43m.\u001b[39;49m\u001b[43mlstat\u001b[49m\u001b[43m(\u001b[49m\u001b[43mpath\u001b[49m\u001b[43m)\u001b[49m\n\u001b[1;32m    178\u001b[0m \u001b[38;5;28;01mexcept\u001b[39;00m (\u001b[38;5;167;01mOSError\u001b[39;00m, \u001b[38;5;167;01mValueError\u001b[39;00m):\n\u001b[1;32m    179\u001b[0m     \u001b[38;5;28;01mreturn\u001b[39;00m \u001b[38;5;28;01mFalse\u001b[39;00m\n",
      "\u001b[0;31mKeyboardInterrupt\u001b[0m: "
     ]
    }
   ],
   "source": [
    "max_instance_number = {}\n",
    "\n",
    "for i in tqdm(train_coord_df.series_id.unique()):\n",
    "    max_instance_number.update(dict(i=len(glob(f\"../../input/rsna-2024-lumbar-spine-degenerative-classification/train_images/**/{i}/*\"))))\n",
    "max_instance_number"
   ]
  },
  {
   "cell_type": "code",
   "execution_count": 5,
   "metadata": {},
   "outputs": [],
   "source": [
    "idx = 2000"
   ]
  },
  {
   "cell_type": "code",
   "execution_count": 6,
   "metadata": {},
   "outputs": [
    {
     "data": {
      "text/html": [
       "<div>\n",
       "<style scoped>\n",
       "    .dataframe tbody tr th:only-of-type {\n",
       "        vertical-align: middle;\n",
       "    }\n",
       "\n",
       "    .dataframe tbody tr th {\n",
       "        vertical-align: top;\n",
       "    }\n",
       "\n",
       "    .dataframe thead th {\n",
       "        text-align: right;\n",
       "    }\n",
       "</style>\n",
       "<table border=\"1\" class=\"dataframe\">\n",
       "  <thead>\n",
       "    <tr style=\"text-align: right;\">\n",
       "      <th></th>\n",
       "      <th>study_id</th>\n",
       "      <th>series_id</th>\n",
       "      <th>instance_number</th>\n",
       "      <th>condition</th>\n",
       "      <th>level</th>\n",
       "      <th>x</th>\n",
       "      <th>y</th>\n",
       "      <th>series_description</th>\n",
       "    </tr>\n",
       "  </thead>\n",
       "  <tbody>\n",
       "    <tr>\n",
       "      <th>16165</th>\n",
       "      <td>305152236</td>\n",
       "      <td>1523080825</td>\n",
       "      <td>5</td>\n",
       "      <td>Right Neural Foraminal Narrowing</td>\n",
       "      <td>L1/L2</td>\n",
       "      <td>254.023861</td>\n",
       "      <td>89.544469</td>\n",
       "      <td>Sagittal T1</td>\n",
       "    </tr>\n",
       "    <tr>\n",
       "      <th>16166</th>\n",
       "      <td>305152236</td>\n",
       "      <td>1523080825</td>\n",
       "      <td>11</td>\n",
       "      <td>Left Neural Foraminal Narrowing</td>\n",
       "      <td>L1/L2</td>\n",
       "      <td>243.405797</td>\n",
       "      <td>94.608696</td>\n",
       "      <td>Sagittal T1</td>\n",
       "    </tr>\n",
       "    <tr>\n",
       "      <th>16167</th>\n",
       "      <td>305152236</td>\n",
       "      <td>1523080825</td>\n",
       "      <td>4</td>\n",
       "      <td>Right Neural Foraminal Narrowing</td>\n",
       "      <td>L2/L3</td>\n",
       "      <td>241.529284</td>\n",
       "      <td>129.527115</td>\n",
       "      <td>Sagittal T1</td>\n",
       "    </tr>\n",
       "    <tr>\n",
       "      <th>16168</th>\n",
       "      <td>305152236</td>\n",
       "      <td>1523080825</td>\n",
       "      <td>11</td>\n",
       "      <td>Left Neural Foraminal Narrowing</td>\n",
       "      <td>L2/L3</td>\n",
       "      <td>231.657005</td>\n",
       "      <td>128.618357</td>\n",
       "      <td>Sagittal T1</td>\n",
       "    </tr>\n",
       "    <tr>\n",
       "      <th>16169</th>\n",
       "      <td>305152236</td>\n",
       "      <td>1523080825</td>\n",
       "      <td>4</td>\n",
       "      <td>Right Neural Foraminal Narrowing</td>\n",
       "      <td>L3/L4</td>\n",
       "      <td>228.201735</td>\n",
       "      <td>174.507592</td>\n",
       "      <td>Sagittal T1</td>\n",
       "    </tr>\n",
       "    <tr>\n",
       "      <th>16170</th>\n",
       "      <td>305152236</td>\n",
       "      <td>1523080825</td>\n",
       "      <td>12</td>\n",
       "      <td>Left Neural Foraminal Narrowing</td>\n",
       "      <td>L3/L4</td>\n",
       "      <td>222.381643</td>\n",
       "      <td>166.338164</td>\n",
       "      <td>Sagittal T1</td>\n",
       "    </tr>\n",
       "    <tr>\n",
       "      <th>16171</th>\n",
       "      <td>305152236</td>\n",
       "      <td>1523080825</td>\n",
       "      <td>5</td>\n",
       "      <td>Right Neural Foraminal Narrowing</td>\n",
       "      <td>L4/L5</td>\n",
       "      <td>223.004320</td>\n",
       "      <td>210.246220</td>\n",
       "      <td>Sagittal T1</td>\n",
       "    </tr>\n",
       "    <tr>\n",
       "      <th>16172</th>\n",
       "      <td>305152236</td>\n",
       "      <td>1523080825</td>\n",
       "      <td>14</td>\n",
       "      <td>Left Neural Foraminal Narrowing</td>\n",
       "      <td>L4/L5</td>\n",
       "      <td>221.144928</td>\n",
       "      <td>199.729469</td>\n",
       "      <td>Sagittal T1</td>\n",
       "    </tr>\n",
       "    <tr>\n",
       "      <th>16173</th>\n",
       "      <td>305152236</td>\n",
       "      <td>1523080825</td>\n",
       "      <td>6</td>\n",
       "      <td>Right Neural Foraminal Narrowing</td>\n",
       "      <td>L5/S1</td>\n",
       "      <td>221.537961</td>\n",
       "      <td>243.644252</td>\n",
       "      <td>Sagittal T1</td>\n",
       "    </tr>\n",
       "    <tr>\n",
       "      <th>16174</th>\n",
       "      <td>305152236</td>\n",
       "      <td>1523080825</td>\n",
       "      <td>16</td>\n",
       "      <td>Left Neural Foraminal Narrowing</td>\n",
       "      <td>L5/S1</td>\n",
       "      <td>221.144928</td>\n",
       "      <td>231.265700</td>\n",
       "      <td>Sagittal T1</td>\n",
       "    </tr>\n",
       "  </tbody>\n",
       "</table>\n",
       "</div>"
      ],
      "text/plain": [
       "        study_id   series_id  instance_number  \\\n",
       "16165  305152236  1523080825                5   \n",
       "16166  305152236  1523080825               11   \n",
       "16167  305152236  1523080825                4   \n",
       "16168  305152236  1523080825               11   \n",
       "16169  305152236  1523080825                4   \n",
       "16170  305152236  1523080825               12   \n",
       "16171  305152236  1523080825                5   \n",
       "16172  305152236  1523080825               14   \n",
       "16173  305152236  1523080825                6   \n",
       "16174  305152236  1523080825               16   \n",
       "\n",
       "                              condition  level           x           y  \\\n",
       "16165  Right Neural Foraminal Narrowing  L1/L2  254.023861   89.544469   \n",
       "16166   Left Neural Foraminal Narrowing  L1/L2  243.405797   94.608696   \n",
       "16167  Right Neural Foraminal Narrowing  L2/L3  241.529284  129.527115   \n",
       "16168   Left Neural Foraminal Narrowing  L2/L3  231.657005  128.618357   \n",
       "16169  Right Neural Foraminal Narrowing  L3/L4  228.201735  174.507592   \n",
       "16170   Left Neural Foraminal Narrowing  L3/L4  222.381643  166.338164   \n",
       "16171  Right Neural Foraminal Narrowing  L4/L5  223.004320  210.246220   \n",
       "16172   Left Neural Foraminal Narrowing  L4/L5  221.144928  199.729469   \n",
       "16173  Right Neural Foraminal Narrowing  L5/S1  221.537961  243.644252   \n",
       "16174   Left Neural Foraminal Narrowing  L5/S1  221.144928  231.265700   \n",
       "\n",
       "      series_description  \n",
       "16165        Sagittal T1  \n",
       "16166        Sagittal T1  \n",
       "16167        Sagittal T1  \n",
       "16168        Sagittal T1  \n",
       "16169        Sagittal T1  \n",
       "16170        Sagittal T1  \n",
       "16171        Sagittal T1  \n",
       "16172        Sagittal T1  \n",
       "16173        Sagittal T1  \n",
       "16174        Sagittal T1  "
      ]
     },
     "execution_count": 6,
     "metadata": {},
     "output_type": "execute_result"
    }
   ],
   "source": [
    "coord_label_num = train_coord_df.groupby(\"series_id\").count().study_id\n",
    "# new_train_coord_df = train_coord_df[~train_coord_df.series_id.isin(train_coord_df.groupby(\"series_id\").count()[coord_label_num % 5 != 0].reset_index().series_id.to_numpy())].sort_values(by=[\"series_id\", \"level\"]).reset_index(drop=True)\n",
    "new_train_coord_df = train_coord_df.sort_values(by=[\"study_id\", \"series_id\", \"level\", \"condition\"]).reset_index(drop=True)\n",
    "new_train_coord_df = train_coord_df[~train_coord_df.series_id.isin(train_coord_df.groupby(\"series_id\").count()[coord_label_num % 5 != 0].reset_index().series_id.to_numpy())].sort_values(by=[\"series_id\", \"level\"]).reset_index(drop=True)\n",
    "# new_train_coord_df = train_coord_df[train_coord_df.series_id.isin(train_coord_df.groupby(\"series_id\").count()[coord_label_num % 5 != 0].reset_index().series_id.to_numpy())].sort_values(by=[\"series_id\", \"level\"]).reset_index(drop=True)\n",
    "series_ids = new_train_coord_df.series_id.unique()\n",
    "series_df = new_train_coord_df[new_train_coord_df.series_id == series_ids[idx]]\n",
    "idx += 1\n",
    "series_df"
   ]
  },
  {
   "cell_type": "code",
   "execution_count": 7,
   "metadata": {},
   "outputs": [
    {
     "data": {
      "application/vnd.jupyter.widget-view+json": {
       "model_id": "5c0c596cfefd4aeaa7f6966ab68f1a2b",
       "version_major": 2,
       "version_minor": 0
      },
      "text/plain": [
       "  0%|          | 0/5662 [00:00<?, ?it/s]"
      ]
     },
     "metadata": {},
     "output_type": "display_data"
    }
   ],
   "source": [
    "instance_num = {sd: [] for sd in new_train_coord_df.series_description.unique()}\n",
    "for i in trange(len(series_ids)):\n",
    "    series_df = new_train_coord_df[new_train_coord_df.series_id == series_ids[i]]\n",
    "    instance_num[series_df.series_description.iloc[0]].append(len(glob(f\"../../input/rsna-2024-lumbar-spine-degenerative-classification/train_images/**/{series_df.series_id.iloc[0]}/*\")))"
   ]
  },
  {
   "cell_type": "code",
   "execution_count": 8,
   "metadata": {},
   "outputs": [
    {
     "data": {
      "text/plain": [
       "dict_keys(['Sagittal T1', 'Axial T2', 'Sagittal T2/STIR'])"
      ]
     },
     "execution_count": 8,
     "metadata": {},
     "output_type": "execute_result"
    }
   ],
   "source": [
    "instance_num.keys()"
   ]
  },
  {
   "cell_type": "code",
   "execution_count": 9,
   "metadata": {},
   "outputs": [
    {
     "data": {
      "text/plain": [
       "(array([848., 695., 229.,   1.,   0.,   0.,   0.,   1.,   3.,   9.]),\n",
       " array([ 15. ,  32.7,  50.4,  68.1,  85.8, 103.5, 121.2, 138.9, 156.6,\n",
       "        174.3, 192. ]),\n",
       " <BarContainer object of 10 artists>)"
      ]
     },
     "execution_count": 9,
     "metadata": {},
     "output_type": "execute_result"
    },
    {
     "data": {
      "image/png": "[encoded data removed]",
      "text/plain": [
       "<Figure size 640x480 with 1 Axes>"
      ]
     },
     "metadata": {},
     "output_type": "display_data"
    }
   ],
   "source": [
    "plt.hist(np.asarray(instance_num['Axial T2']))"
   ]
  },
  {
   "cell_type": "code",
   "execution_count": 10,
   "metadata": {},
   "outputs": [
    {
     "data": {
      "text/plain": [
       "(array([110., 667., 704., 402.,  65.,  26.,   3.,   0.,   0.,   1.]),\n",
       " array([10. , 12.8, 15.6, 18.4, 21.2, 24. , 26.8, 29.6, 32.4, 35.2, 38. ]),\n",
       " <BarContainer object of 10 artists>)"
      ]
     },
     "execution_count": 10,
     "metadata": {},
     "output_type": "execute_result"
    },
    {
     "data": {
      "image/png": "[encoded data removed]",
      "text/plain": [
       "<Figure size 640x480 with 1 Axes>"
      ]
     },
     "metadata": {},
     "output_type": "display_data"
    }
   ],
   "source": [
    "plt.hist(np.asarray(instance_num['Sagittal T1']))"
   ]
  },
  {
   "cell_type": "code",
   "execution_count": 11,
   "metadata": {},
   "outputs": [
    {
     "data": {
      "text/plain": [
       "(array([  3., 106., 127., 579., 596., 239., 176.,  47.,  22.,   3.]),\n",
       " array([ 8. , 10.1, 12.2, 14.3, 16.4, 18.5, 20.6, 22.7, 24.8, 26.9, 29. ]),\n",
       " <BarContainer object of 10 artists>)"
      ]
     },
     "execution_count": 11,
     "metadata": {},
     "output_type": "execute_result"
    },
    {
     "data": {
      "image/png": "[encoded data removed]",
      "text/plain": [
       "<Figure size 640x480 with 1 Axes>"
      ]
     },
     "metadata": {},
     "output_type": "display_data"
    }
   ],
   "source": [
    "plt.hist(np.asarray(instance_num['Sagittal T2/STIR']))"
   ]
  },
  {
   "cell_type": "code",
   "execution_count": null,
   "metadata": {},
   "outputs": [],
   "source": []
  }
 ],
 "metadata": {
  "kernelspec": {
   "display_name": "base",
   "language": "python",
   "name": "python3"
  },
  "language_info": {
   "codemirror_mode": {
    "name": "ipython",
    "version": 3
   },
   "file_extension": ".py",
   "mimetype": "text/x-python",
   "name": "python",
   "nbconvert_exporter": "python",
   "pygments_lexer": "ipython3",
   "version": "3.10.13"
  }
 },
 "nbformat": 4,
 "nbformat_minor": 2
}
