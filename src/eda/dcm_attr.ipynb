{
 "cells": [
  {
   "cell_type": "code",
   "execution_count": 1,
   "metadata": {},
   "outputs": [],
   "source": [
    "import pandas as pd\n",
    "import numpy as np\n",
    "import matplotlib.pyplot as plt\n",
    "import pydicom\n",
    "from glob import glob\n",
    "import cv2\n",
    "from matplotlib import animation\n",
    "from IPython import display\n"
   ]
  },
  {
   "cell_type": "code",
   "execution_count": 2,
   "metadata": {},
   "outputs": [],
   "source": [
    "def standardize_pixel_array(dcm: pydicom.dataset.FileDataset) -> np.ndarray:\n",
    "    \"\"\"\n",
    "    Source : https://www.kaggle.com/competitions/rsna-2023-abdominal-trauma-detection/discussion/427217\n",
    "    \"\"\"\n",
    "    # Correct DICOM pixel_array if PixelRepresentation == 1.\n",
    "    pixel_array = dcm.pixel_array\n",
    "    if dcm.PixelRepresentation == 1:\n",
    "        bit_shift = dcm.BitsAllocated - dcm.BitsStored\n",
    "        dtype = pixel_array.dtype\n",
    "        pixel_array = (pixel_array << bit_shift).astype(dtype) >> bit_shift\n",
    "\n",
    "    intercept = float(dcm.RescaleIntercept) if hasattr(dcm, \"RescaleIntercept\") else 0\n",
    "    slope = float(dcm.RescaleSlope) if hasattr(dcm, \"RescaleSlope\") else 1\n",
    "    center = int(dcm.WindowCenter)\n",
    "    width = int(dcm.WindowWidth)\n",
    "    low = center - width / 2\n",
    "    high = center + width / 2\n",
    "\n",
    "    pixel_array = (pixel_array * slope) + intercept\n",
    "    pixel_array = np.clip(pixel_array, low, high)\n",
    "    return pixel_array"
   ]
  },
  {
   "cell_type": "code",
   "execution_count": 3,
   "metadata": {},
   "outputs": [],
   "source": [
    "train_descriptions = pd.read_csv(\"../../input/rsna-2024-lumbar-spine-degenerative-classification/train_series_descriptions.csv\")\n",
    "train_coord_df = pd.read_csv(\"../../input/rsna-2024-lumbar-spine-degenerative-classification/train_label_coordinates.csv\")\n",
    "train_coord_df = train_coord_df.merge(train_descriptions, on=[\"series_id\", \"study_id\"], how=\"left\")\n",
    "train_df = pd.read_csv(\"../../input/rsna-2024-lumbar-spine-degenerative-classification/train.csv\")"
   ]
  },
  {
   "cell_type": "code",
   "execution_count": 40,
   "metadata": {},
   "outputs": [
    {
     "data": {
      "text/plain": [
       "[0.625, 0.625]"
      ]
     },
     "execution_count": 40,
     "metadata": {},
     "output_type": "execute_result"
    }
   ],
   "source": [
    "planes = {\"sagittal\": 0, \"coronal\": 1, \"axial\": 2}\n",
    "series_ids = train_coord_df[train_coord_df.series_description == \"Axial T2\"].series_id.unique()\n",
    "dcm_paths = glob(f\"../../input/rsna-2024-lumbar-spine-degenerative-classification/train_images/**/{series_ids[0]}/**/*.dcm\", recursive=True) \n",
    "pydicom.dcmread(dcm_paths[0]).ImagePositionPatient[2]\n",
    "dicoms = [pydicom.dcmread(f) for f in dcm_paths]\n",
    "positions = np.asarray([float(d.ImagePositionPatient[2]) for d in dicoms])\n",
    "idx = np.argsort(-positions)\n",
    "np.asarray(dcm_paths)[idx]\n",
    "np.asarray([d.ImageOrientationPatient for d in dicoms])[idx]\n",
    "dicoms[0].PixelSpacing"
   ]
  },
  {
   "cell_type": "code",
   "execution_count": 28,
   "metadata": {},
   "outputs": [],
   "source": [
    "study_num = []\n",
    "dirs = glob(\"../../input/rsna-2024-lumbar-spine-degenerative-classification/train_images/*\")\n",
    "for d in dirs:\n",
    "    study_num.append(len(glob(d + \"/*\")))"
   ]
  },
  {
   "cell_type": "code",
   "execution_count": 36,
   "metadata": {},
   "outputs": [
    {
     "data": {
      "text/plain": [
       "(array([   0.,    3., 1632.,  309.,   30.]),\n",
       " array([0.5, 1.5, 2.5, 3.5, 4.5, 5.5]),\n",
       " <BarContainer object of 5 artists>)"
      ]
     },
     "execution_count": 36,
     "metadata": {},
     "output_type": "execute_result"
    },
    {
     "data": {
      "image/png": "[encoded data removed]",
      "text/plain": [
       "<Figure size 640x480 with 1 Axes>"
      ]
     },
     "metadata": {},
     "output_type": "display_data"
    }
   ],
   "source": [
    "plt.hist(study_num, bins=[0.5, 1.5, 2.5, 3.5, 4.5, 5.5])"
   ]
  }
 ],
 "metadata": {
  "kernelspec": {
   "display_name": "base",
   "language": "python",
   "name": "python3"
  },
  "language_info": {
   "codemirror_mode": {
    "name": "ipython",
    "version": 3
   },
   "file_extension": ".py",
   "mimetype": "text/x-python",
   "name": "python",
   "nbconvert_exporter": "python",
   "pygments_lexer": "ipython3",
   "version": "3.10.13"
  }
 },
 "nbformat": 4,
 "nbformat_minor": 2
}
