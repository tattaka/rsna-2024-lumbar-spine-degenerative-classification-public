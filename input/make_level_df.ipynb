{
 "cells": [
  {
   "cell_type": "code",
   "execution_count": 1,
   "metadata": {},
   "outputs": [],
   "source": [
    "import pandas as pd\n",
    "from sklearn.model_selection import GroupKFold\n",
    "import numpy as np\n",
    "from collections import OrderedDict\n",
    "from tqdm.auto import trange, tqdm"
   ]
  },
  {
   "cell_type": "code",
   "execution_count": 2,
   "metadata": {},
   "outputs": [],
   "source": [
    "train_descriptions = pd.read_csv(\n",
    "    \"rsna-2024-lumbar-spine-degenerative-classification/train_series_descriptions.csv\"\n",
    ")\n",
    "train_coord_df = pd.read_csv(\n",
    "    \"rsna-2024-lumbar-spine-degenerative-classification/train_label_coordinates.csv\"\n",
    ")\n",
    "train_coord_df = train_coord_df.merge(\n",
    "    train_descriptions, on=[\"series_id\", \"study_id\"], how=\"left\"\n",
    ")\n",
    "train_df = pd.read_csv(\n",
    "    \"rsna-2024-lumbar-spine-degenerative-classification/train.csv\"\n",
    ")\n",
    "train_df[\"fold_id\"] = -1\n",
    "for i, (train_index, valid_index) in enumerate(\n",
    "    GroupKFold(n_splits=5).split(\n",
    "        train_df, np.arange(len(train_df)), train_df.study_id\n",
    "    )\n",
    "):\n",
    "    train_df.loc[valid_index, \"fold_id\"] = i"
   ]
  },
  {
   "cell_type": "code",
   "execution_count": 3,
   "metadata": {},
   "outputs": [
    {
     "data": {
      "application/vnd.jupyter.widget-view+json": {
       "model_id": "cce240759d0443e1bf0d027ea57b156b",
       "version_major": 2,
       "version_minor": 0
      },
      "text/plain": [
       "  0%|          | 0/1975 [00:00<?, ?it/s]"
      ]
     },
     "metadata": {},
     "output_type": "display_data"
    }
   ],
   "source": [
    "level_map = OrderedDict(\n",
    "    l1_l2=\"L1/L2\",\n",
    "    l2_l3=\"L2/L3\",\n",
    "    l3_l4=\"L3/L4\",\n",
    "    l4_l5=\"L4/L5\",\n",
    "    l5_s1=\"L5/S1\",\n",
    ")\n",
    "condition = [\n",
    "    \"spinal_canal_stenosis\",\n",
    "    \"left_neural_foraminal_narrowing\",\n",
    "    \"right_neural_foraminal_narrowing\",\n",
    "    \"left_subarticular_stenosis\",\n",
    "    \"right_subarticular_stenosis\",\n",
    "]\n",
    "df = []\n",
    "for i in trange(len(train_df)):\n",
    "    row = train_df.iloc[i]\n",
    "    row_list = []\n",
    "    for key in level_map:\n",
    "        df += [[row.study_id] + [level_map[key]] + row.loc[[c + \"_\" + key for c in condition]].to_list() + [row.fold_id]]\n",
    "train_level_df = pd.DataFrame(df, columns=[\"study_id\", \"level\"] + condition + [\"fold_id\"])\n",
    "train_level_df.to_csv(\"train_level_df.csv\", index=False)"
   ]
  },
  {
   "cell_type": "code",
   "execution_count": null,
   "metadata": {},
   "outputs": [],
   "source": []
  }
 ],
 "metadata": {
  "kernelspec": {
   "display_name": "base",
   "language": "python",
   "name": "python3"
  },
  "language_info": {
   "codemirror_mode": {
    "name": "ipython",
    "version": 3
   },
   "file_extension": ".py",
   "mimetype": "text/x-python",
   "name": "python",
   "nbconvert_exporter": "python",
   "pygments_lexer": "ipython3",
   "version": "3.10.13"
  }
 },
 "nbformat": 4,
 "nbformat_minor": 2
}
